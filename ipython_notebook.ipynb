{
 "cells": [
  {
   "cell_type": "code",
   "execution_count": 16,
   "metadata": {
    "collapsed": false
   },
   "outputs": [
    {
     "name": "stdout",
     "output_type": "stream",
     "text": [
      "Data split.\n",
      "CV starts.\n",
      "Fitting 3 folds for each of 198 candidates, totalling 594 fits\n",
      "Fitting 3 folds for each of 6 candidates, totalling 18 fits\n"
     ]
    },
    {
     "name": "stderr",
     "output_type": "stream",
     "text": [
      "[Parallel(n_jobs=8)]: Done 594 out of 594 | elapsed:    0.6s finished\n"
     ]
    },
    {
     "name": "stdout",
     "output_type": "stream",
     "text": [
      "Fitting 3 folds for each of 84 candidates, totalling 252 fits\n"
     ]
    },
    {
     "name": "stderr",
     "output_type": "stream",
     "text": [
      "[Parallel(n_jobs=8)]: Done  18 out of  18 | elapsed:    0.1s finished\n",
      "[Parallel(n_jobs=8)]: Done  34 tasks      | elapsed:   49.8s\n",
      "[Parallel(n_jobs=8)]: Done 184 tasks      | elapsed:  3.8min\n",
      "[Parallel(n_jobs=8)]: Done 252 out of 252 | elapsed:  5.6min finished\n"
     ]
    },
    {
     "name": "stdout",
     "output_type": "stream",
     "text": [
      "CV starts.\n",
      "Fitting 3 folds for each of 198 candidates, totalling 594 fits\n",
      "Fitting 3 folds for each of 6 candidates, totalling 18 fits\n"
     ]
    },
    {
     "name": "stderr",
     "output_type": "stream",
     "text": [
      "[Parallel(n_jobs=8)]: Done 594 out of 594 | elapsed:    0.5s finished\n"
     ]
    },
    {
     "name": "stdout",
     "output_type": "stream",
     "text": [
      "Fitting 3 folds for each of 84 candidates, totalling 252 fits\n"
     ]
    },
    {
     "name": "stderr",
     "output_type": "stream",
     "text": [
      "[Parallel(n_jobs=8)]: Done  18 out of  18 | elapsed:    0.1s finished\n",
      "[Parallel(n_jobs=8)]: Done  34 tasks      | elapsed:   43.2s\n",
      "[Parallel(n_jobs=8)]: Done 184 tasks      | elapsed:  3.5min\n",
      "[Parallel(n_jobs=8)]: Done 252 out of 252 | elapsed:  5.2min finished\n"
     ]
    },
    {
     "name": "stdout",
     "output_type": "stream",
     "text": [
      "CV starts.\n",
      "Fitting 3 folds for each of 198 candidates, totalling 594 fits\n",
      "Fitting 3 folds for each of 6 candidates, totalling 18 fits\n"
     ]
    },
    {
     "name": "stderr",
     "output_type": "stream",
     "text": [
      "[Parallel(n_jobs=8)]: Done 594 out of 594 | elapsed:    0.5s finished\n"
     ]
    },
    {
     "name": "stdout",
     "output_type": "stream",
     "text": [
      "Fitting 3 folds for each of 84 candidates, totalling 252 fits\n"
     ]
    },
    {
     "name": "stderr",
     "output_type": "stream",
     "text": [
      "[Parallel(n_jobs=8)]: Done  18 out of  18 | elapsed:    0.1s finished\n",
      "[Parallel(n_jobs=8)]: Done  34 tasks      | elapsed:   42.2s\n",
      "[Parallel(n_jobs=8)]: Done 184 tasks      | elapsed: 18.7min\n",
      "[Parallel(n_jobs=8)]: Done 252 out of 252 | elapsed: 27.6min finished\n"
     ]
    },
    {
     "name": "stdout",
     "output_type": "stream",
     "text": [
      "CV starts.\n",
      "Fitting 3 folds for each of 198 candidates, totalling 594 fits\n",
      "Fitting 3 folds for each of 6 candidates, totalling 18 fits\n"
     ]
    },
    {
     "name": "stderr",
     "output_type": "stream",
     "text": [
      "[Parallel(n_jobs=8)]: Done 594 out of 594 | elapsed:    0.5s finished\n"
     ]
    },
    {
     "name": "stdout",
     "output_type": "stream",
     "text": [
      "Fitting 3 folds for each of 84 candidates, totalling 252 fits\n"
     ]
    },
    {
     "name": "stderr",
     "output_type": "stream",
     "text": [
      "[Parallel(n_jobs=8)]: Done  18 out of  18 | elapsed:    0.1s finished\n",
      "[Parallel(n_jobs=8)]: Done  34 tasks      | elapsed:   38.9s\n",
      "[Parallel(n_jobs=8)]: Done 184 tasks      | elapsed:  3.4min\n",
      "[Parallel(n_jobs=8)]: Done 252 out of 252 | elapsed:  5.1min finished\n"
     ]
    },
    {
     "name": "stdout",
     "output_type": "stream",
     "text": [
      "CV starts.\n",
      "Fitting 3 folds for each of 198 candidates, totalling 594 fits\n",
      "Fitting 3 folds for each of 6 candidates, totalling 18 fits\n"
     ]
    },
    {
     "name": "stderr",
     "output_type": "stream",
     "text": [
      "[Parallel(n_jobs=8)]: Done 594 out of 594 | elapsed:    0.5s finished\n"
     ]
    },
    {
     "name": "stdout",
     "output_type": "stream",
     "text": [
      "Fitting 3 folds for each of 84 candidates, totalling 252 fits\n"
     ]
    },
    {
     "name": "stderr",
     "output_type": "stream",
     "text": [
      "[Parallel(n_jobs=8)]: Done  18 out of  18 | elapsed:    0.1s finished\n",
      "[Parallel(n_jobs=8)]: Done  34 tasks      | elapsed:   35.4s\n",
      "[Parallel(n_jobs=8)]: Done 184 tasks      | elapsed:  3.3min\n",
      "[Parallel(n_jobs=8)]: Done 252 out of 252 | elapsed:  4.7min finished\n"
     ]
    },
    {
     "name": "stdout",
     "output_type": "stream",
     "text": [
      "CV starts.\n",
      "Fitting 3 folds for each of 198 candidates, totalling 594 fits\n",
      "Fitting 3 folds for each of 6 candidates, totalling 18 fits\n"
     ]
    },
    {
     "name": "stderr",
     "output_type": "stream",
     "text": [
      "[Parallel(n_jobs=8)]: Done 594 out of 594 | elapsed:    0.5s finished\n"
     ]
    },
    {
     "name": "stdout",
     "output_type": "stream",
     "text": [
      "Fitting 3 folds for each of 84 candidates, totalling 252 fits\n"
     ]
    },
    {
     "name": "stderr",
     "output_type": "stream",
     "text": [
      "[Parallel(n_jobs=8)]: Done  18 out of  18 | elapsed:    0.0s finished\n",
      "[Parallel(n_jobs=8)]: Done  34 tasks      | elapsed:   31.4s\n",
      "[Parallel(n_jobs=8)]: Done 184 tasks      | elapsed:  3.1min\n",
      "[Parallel(n_jobs=8)]: Done 252 out of 252 | elapsed:  4.9min finished\n"
     ]
    },
    {
     "name": "stdout",
     "output_type": "stream",
     "text": [
      "CV starts.\n",
      "Fitting 3 folds for each of 198 candidates, totalling 594 fits\n"
     ]
    },
    {
     "name": "stderr",
     "output_type": "stream",
     "text": [
      "[Parallel(n_jobs=8)]: Done 184 tasks      | elapsed:    0.9s\n",
      "[Parallel(n_jobs=8)]: Done 594 out of 594 | elapsed:    1.2s finished\n"
     ]
    },
    {
     "name": "stdout",
     "output_type": "stream",
     "text": [
      "Fitting 3 folds for each of 6 candidates, totalling 18 fits\n",
      "Fitting 3 folds for each of 84 candidates, totalling 252 fits\n"
     ]
    },
    {
     "name": "stderr",
     "output_type": "stream",
     "text": [
      "[Parallel(n_jobs=8)]: Done  18 out of  18 | elapsed:    0.1s finished\n",
      "[Parallel(n_jobs=8)]: Done  34 tasks      | elapsed:   39.3s\n",
      "[Parallel(n_jobs=8)]: Done 184 tasks      | elapsed:  3.4min\n",
      "[Parallel(n_jobs=8)]: Done 252 out of 252 | elapsed:  4.7min finished\n"
     ]
    },
    {
     "name": "stdout",
     "output_type": "stream",
     "text": [
      "Selected model with params:\n",
      "SVR(C=99, cache_size=200, coef0=0.0, degree=3, epsilon=0.1, gamma='auto',\n",
      "  kernel='linear', max_iter=-1, shrinking=True, tol=0.001, verbose=False)\n",
      "Best score on the train data:\n",
      "0.372405550961\n",
      "Best score on test data:\n",
      "-0.191549807322\n",
      "MSE of prediction:\n",
      "237771216.606\n",
      "Average relative accuracy:\n",
      "99.5629415324\n"
     ]
    }
   ],
   "source": [
    "import scipy as sp\n",
    "import numpy as np\n",
    "import pandas as pd\n",
    "import multiprocessing as mp\n",
    "from sklearn import cross_validation\n",
    "from sklearn.preprocessing import StandardScaler\n",
    "from sklearn.linear_model import SGDClassifier\n",
    "from sklearn import grid_search\n",
    "from sklearn.grid_search import GridSearchCV\n",
    "from sklearn import metrics\n",
    "from sklearn import svm\n",
    "from sklearn.kernel_ridge import KernelRidge\n",
    "from sklearn.ensemble import RandomForestRegressor\n",
    "\n",
    "D=pd.read_csv(\"https://raw.githubusercontent.com/AnnaDS/tangramm/master/tangramm_test.csv\")\n",
    "\n",
    "D.columns=[x.strip() for x in D.columns]\n",
    "\n",
    "print(\"Data split.\")\n",
    "Dtrain=D[D['test']==0]\n",
    "Dtest=D[D['test']==1]\n",
    "#r=list(D.columns-['test', 'class'])\n",
    "r=list(D.columns.difference(['test', 'class']))\n",
    "#Data frame of train samples\n",
    "Dtrain_x=Dtrain[r]\n",
    "#Data frame of test samples\n",
    "Dtest_x=Dtest[r]\n",
    "\n",
    "scaler = StandardScaler()\n",
    "y_train=Dtrain['class']\n",
    "y_test=Dtest['class']\n",
    "#Feature's names\n",
    "features=Dtest_x.columns\n",
    "\n",
    "#Scale of features (standartization)\n",
    "scaler.fit(Dtrain_x)  # Don't cheat - fit only on training data\n",
    "X_train = scaler.transform(Dtrain_x)\n",
    "X_test = scaler.transform(Dtest_x)  \n",
    "\n",
    "\n",
    "\n",
    "def find_indices(lst, condition):\n",
    "    return [i for i, elem in enumerate(lst) if condition(elem)]\n",
    "def calc_MI(x, y, bins):\n",
    "    c_xy = np.histogram2d(x, y, bins)[0]\n",
    "    mi = metrics.mutual_info_score(None, None, contingency=c_xy)\n",
    "    return mi\n",
    "    \n",
    "comp=[x/10 for x in range(1,10)]\n",
    "k=0\n",
    "best=pd.DataFrame()\n",
    "#best=best.append(pd.Series({'model':'Random Forest', 'estimator':gs_rfr.best_estimator_, 'score': gs_rfr.best_score_, 'params':gs_rfr.best_params_}), ignore_index=True)\n",
    "for k in comp:\n",
    "    scores=[]\n",
    "    for i in range(0,len(features)):\n",
    "        s = calc_MI(list(zip(*X_train))[i], list(y_train), 10)\n",
    "        scores.append(s)\n",
    "    \n",
    "    mii=find_indices(np.array(scores), lambda e: e > k)\n",
    "    if len(mii)<2 :\n",
    "        break\n",
    "    X_train_mi=X_train[:,mii]\n",
    "    X_test_mi=X_test[:,mii]\n",
    "    features_mi=features[mii]\n",
    "    \n",
    "    print(\"CV starts.\")    \n",
    "    #Support vector regression\n",
    "    svr = svm.SVR()   \n",
    "    param_grid = [{'alpha' : 10.0**-np.arange(1,7),'l1_ratio':[.05, .15, .5, .7, .9, .95, .99, 1]}]\n",
    "    parameters_svr = {'kernel':('linear', 'rbf'), 'C':list(range(1, 100))}\n",
    "    gs_svr = GridSearchCV(svr,parameters_svr,n_jobs=8,verbose=1)\n",
    "    gs_svr.fit(X_train_mi, y_train)\n",
    "    best=best.append(pd.Series({'model':'SVR', 'k':k,'estimator':gs_svr.best_estimator_, 'score': gs_svr.best_score_, 'params':gs_svr.best_params_}), ignore_index=True)\n",
    "\n",
    "    #Kernel Ridge regression\n",
    "    kr=KernelRidge()\n",
    "    parameters_kr = { 'gamma': [0.01, 0.001, 0.0001], 'kernel': ('linear', 'rbf')}\n",
    "    gs_kr = GridSearchCV(kr,parameters_kr,n_jobs=8,verbose=1)\n",
    "    gs_kr.fit(X_train_mi, y_train)\n",
    "    best=best.append(pd.Series({'model':'KernelRidge', 'k':k,'estimator':gs_kr.best_estimator_, 'score': gs_kr.best_score_, 'params':gs_kr.best_params_}), ignore_index=True)\n",
    "\n",
    "    #Random Forest regression\n",
    "    rfr=RandomForestRegressor()\n",
    "    parameters_rfr = {'n_estimators': [500, 700, 1000, 10000], 'max_depth': [None, 1, 2, 3, 4, 5,6], 'min_samples_split': [1, 2, 3]}\n",
    "    gs_rfr = GridSearchCV(rfr,parameters_rfr,n_jobs=8,verbose=1)\n",
    "    gs_rfr.fit(X_train_mi, y_train)\n",
    "    best=best.append(pd.Series({'model':'RandomForest', 'k':k,'estimator':gs_rfr.best_estimator_, 'score': gs_rfr.best_score_, 'params':gs_rfr.best_params_}), ignore_index=True)\n",
    "\n",
    "\n",
    "#Select best options fom model selections according to the results using list of models and parameters\n",
    "\n",
    "V=best.score.tolist().index(max(best.score))\n",
    "BV=best.ix[[V]]\n",
    "mii=find_indices(np.array(scores), lambda e: e > float(BV.k))\n",
    "\n",
    "X_train_mi=X_train[:,mii]\n",
    "X_test_mi=X_test[:,mii]\n",
    "features_mi=features[mii]\n",
    "s = BV.estimator.tolist()[0]#svm.SVR(C=99, kernel='linear')\n",
    "s.fit(X_train_mi, y_train)\n",
    "    \n",
    "print(\"Selected model with params:\")\n",
    "print(str(BV.estimator.tolist()[0]))\n",
    "print(\"Best score on the train data:\")\n",
    "print(s.score(X_train_mi, y_train))\n",
    "print(\"Best score on test data:\")\n",
    "print(s.score(X_test_mi, y_test.values))\n",
    "print(\"MSE of prediction:\")\n",
    "print(np.average(abs(s.predict(X_test_mi)-y_test.values)**2))\n",
    "print(\"Average relative accuracy:\")\n",
    "print(100-np.average(abs((s.predict(X_test_mi)-y_test.values)/y_test.values)))"
   ]
  },
  {
   "cell_type": "code",
   "execution_count": 41,
   "metadata": {
    "collapsed": false
   },
   "outputs": [
    {
     "data": {
      "text/plain": [
       "<matplotlib.axes._subplots.AxesSubplot at 0x1169645f8>"
      ]
     },
     "execution_count": 41,
     "metadata": {},
     "output_type": "execute_result"
    },
    {
     "data": {
      "image/png": "[encoded data removed]",
      "text/plain": [
       "<matplotlib.figure.Figure at 0x116cb7358>"
      ]
     },
     "metadata": {},
     "output_type": "display_data"
    }
   ],
   "source": [
    "import matplotlib.pyplot as plt\n",
    "%matplotlib inline \n",
    "result = pd.merge(best[best.model=='SVR'][['k','score']], best[best.model=='KernelRidge'][['k','score']], on='k')\n",
    "result = pd.merge(result, best[best.model=='RandomForest'][['k','score']], on='k')\n",
    "result=result.set_index(result.k)\n",
    "result.columns=['k','SVR', 'KernelRidge', 'RandomForest']\n",
    "result=result[['SVR', 'KernelRidge', 'RandomForest']]\n",
    "result.plot()"
   ]
  },
  {
   "cell_type": "code",
   "execution_count": 46,
   "metadata": {
    "collapsed": false
   },
   "outputs": [],
   "source": [
    "\n",
    "\n",
    "D.head()\n",
    "y_train_pred=s.predict(X_train_mi)\n",
    "y_test_pred=s.predict(X_test_mi)\n",
    "#plt.plot(np.array(scores))"
   ]
  },
  {
   "cell_type": "code",
   "execution_count": 64,
   "metadata": {
    "collapsed": false
   },
   "outputs": [
    {
     "data": {
      "text/plain": [
       "(array([ 382.,  316.,  193.,   53.,   15.,    8.,    8.,    2.,    0.,    6.]),\n",
       " array([  4.48673263e-04,   2.70715306e+01,   5.41426125e+01,\n",
       "          8.12136945e+01,   1.08284776e+02,   1.35355858e+02,\n",
       "          1.62426940e+02,   1.89498022e+02,   2.16569104e+02,\n",
       "          2.43640186e+02,   2.70711268e+02]),\n",
       " <a list of 10 Patch objects>)"
      ]
     },
     "execution_count": 64,
     "metadata": {},
     "output_type": "execute_result"
    },
    {
     "data": {
      "image/png": "[encoded data removed]",
      "text/plain": [
       "<matplotlib.figure.Figure at 0x1176ae400>"
      ]
     },
     "metadata": {},
     "output_type": "display_data"
    },
    {
     "data": {
      "image/png": "[encoded data removed]",
      "text/plain": [
       "<matplotlib.figure.Figure at 0x117372588>"
      ]
     },
     "metadata": {},
     "output_type": "display_data"
    }
   ],
   "source": [
    "D_res=D\n",
    "D_res['prediction']=np.concatenate([y_train_pred, y_test_pred])\n",
    "D_res['error']=D_res['prediction']-D_res['class']\n",
    "D_res['relative_error']=100*abs(D_res['error']/D_res['class'])\n",
    "plt.hist(D_res['error'])\n",
    "plt.title('Histogram of prediction errors using all ppopulation')\n",
    "plt.grid(True)\n",
    "plt.figure()\n",
    "plt.title('Histogram of relative prediction errors using all ppopulation')\n",
    "plt.grid(True)\n",
    "plt.hist(D_res['relative_error'])"
   ]
  },
  {
   "cell_type": "code",
   "execution_count": 58,
   "metadata": {
    "collapsed": false
   },
   "outputs": [],
   "source": [
    "error=D_res['prediction']-D_res['class']"
   ]
  },
  {
   "cell_type": "code",
   "execution_count": 56,
   "metadata": {
    "collapsed": false
   },
   "outputs": [
    {
     "data": {
      "text/plain": [
       "983"
      ]
     },
     "execution_count": 56,
     "metadata": {},
     "output_type": "execute_result"
    }
   ],
   "source": [
    "len(np.concatenate([y_train_pred, y_test_pred]))"
   ]
  },
  {
   "cell_type": "code",
   "execution_count": null,
   "metadata": {
    "collapsed": true
   },
   "outputs": [],
   "source": []
  }
 ],
 "metadata": {
  "kernelspec": {
   "display_name": "Python 3",
   "language": "python",
   "name": "python3"
  },
  "language_info": {
   "codemirror_mode": {
    "name": "ipython",
    "version": 3
   },
   "file_extension": ".py",
   "mimetype": "text/x-python",
   "name": "python",
   "nbconvert_exporter": "python",
   "pygments_lexer": "ipython3",
   "version": "3.5.0"
  }
 },
 "nbformat": 4,
 "nbformat_minor": 0
}
